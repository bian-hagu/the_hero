{
 "cells": [
  {
   "cell_type": "markdown",
   "metadata": {},
   "source": []
  },
  {
   "cell_type": "code",
   "execution_count": 24,
   "metadata": {},
   "outputs": [],
   "source": [
    "from PIL import Image\n",
    "\n",
    "img = Image.open(\"Minotaur.png\")\n",
    "for i in range(20):\n",
    "  for j in range(20):\n",
    "    try:\n",
    "      # img1 = img.crop((0,96*i,1024,96*(i+1)))\n",
    "      img1 = img.crop((96*j,96*i,96*(j+1),96*(i+1)))\n",
    "      img1.save(f'Minotaur/Minotaur{i}_{j}.png')\n",
    "    except:\n",
    "      pass\n",
    "# img1.show()"
   ]
  },
  {
   "cell_type": "code",
   "execution_count": null,
   "metadata": {},
   "outputs": [],
   "source": []
  }
 ],
 "metadata": {
  "language_info": {
   "name": "python"
  }
 },
 "nbformat": 4,
 "nbformat_minor": 2
}
