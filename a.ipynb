{
 "cells": [
  {
   "cell_type": "code",
   "execution_count": 43,
   "metadata": {},
   "outputs": [
    {
     "data": {
      "text/plain": [
       "'3'"
      ]
     },
     "execution_count": 43,
     "metadata": {},
     "output_type": "execute_result"
    }
   ],
   "source": [
    "# def a():\n",
    "maps = {\"1\": True, \"2\": True, \"3\": False, \"4\": False, \"5\": False}\n",
    "labels = ['Level 1(lock)', 'Level 2(lock)', 'Level 3(lock)', 'Level 4(lock)', 'Level 5(lock)', 'Back']\n",
    "id = 1\n",
    "for map in maps:\n",
    "  if not maps[map]:\n",
    "    id = map\n",
    "    break\n",
    "id\n",
    "      \n",
    "\n",
    "  "
   ]
  },
  {
   "cell_type": "markdown",
   "metadata": {},
   "source": []
  }
 ],
 "metadata": {
  "language_info": {
   "name": "python"
  }
 },
 "nbformat": 4,
 "nbformat_minor": 2
}
